{
 "cells": [
  {
   "attachments": {},
   "cell_type": "markdown",
   "metadata": {},
   "source": [
    "#  Inference: running NN operations in G-API Python"
   ]
  },
  {
   "attachments": {},
   "cell_type": "markdown",
   "metadata": {},
   "source": [
    "## In-graph inference example:"
   ]
  },
  {
   "attachments": {},
   "cell_type": "markdown",
   "metadata": {},
   "source": [
    "## OpenVINO as NN backend"
   ]
  },
  {
   "attachments": {},
   "cell_type": "markdown",
   "metadata": {},
   "source": [
    "### Build environment"
   ]
  },
  {
   "attachments": {},
   "cell_type": "markdown",
   "metadata": {},
   "source": [
    "To integrate OpenVINO Toolkit support into G-API, we can follow these steps:"
   ]
  },
  {
   "attachments": {},
   "cell_type": "markdown",
   "metadata": {},
   "source": [
    "> - Get OpenVINO from https://docs.openvinotoolkit.org/\n",
    ">\n",
    ">- Configure enviroment: \n",
    ">\n",
    " >       source path-to-unpacked-openvino/bin/setupvars.sh \n",
    ">\n",
    " >  - Build G-API with OpenVINO support:\n",
    ">\n",
    "  >      `cmake /path-to-opencv -DWITH_INF_ENGINE=ON `"
   ]
  },
  {
   "attachments": {},
   "cell_type": "markdown",
   "metadata": {},
   "source": [
    "### The process of the infer"
   ]
  },
  {
   "attachments": {},
   "cell_type": "markdown",
   "metadata": {},
   "source": [
    "Since infer is an operation, various backends can provide kernels to implement it. A kernel, in this context, is a piece of code that can be executed on specific hardware (like CPU, GPU)  to perform a certain operation.\n",
    "\n",
    "\n",
    "**OpenVINO** is one of the inference backends. It supplies an infer kernel running on top of its Inference Engine.\n",
    "\n",
    "The data for the neural network (NN) model is passed through the G-API compile arguments. This is similar to how kernels (i.e., operation implementations) are passed to the G-API.\n",
    "\n",
    "Every neural network backend provides its own structure to configure the network. This is similar to a kernel API, which provides an interface for working with a specific kernel. This structure would define, for example, the model's architecture, its parameters, and other properties.\n"
   ]
  },
  {
   "cell_type": "code",
   "execution_count": null,
   "metadata": {},
   "outputs": [],
   "source": [
    "def main():\n",
    "    g_in: cv.GMat = cV.GMat()\n",
    "    g_infer_in: cv.GInferInputs = cv.GInferInputs()\n",
    "    blob: cv.GMat = cv.gapi.infer(\"input\", g_infer_in)\n",
    "\n",
    "    size: cv.GOpaque.Any() = cv.gapi.streaming.size(g_in)\n",
    "    objs: cv.GArray.Any() = cv.gapi.parseSsD(blob, size)\n",
    "    pipeline: cv.GComputation = cv.GComputation(cv.GIn(g_in)，cv.GOut(objs)\n",
    "\n",
    "if __name__ == \"__main__\":\n",
    "    main()"
   ]
  }
 ],
 "metadata": {
  "kernelspec": {
   "display_name": "base",
   "language": "python",
   "name": "python3"
  },
  "language_info": {
   "codemirror_mode": {
    "name": "ipython",
    "version": 3
   },
   "file_extension": ".py",
   "mimetype": "text/x-python",
   "name": "python",
   "nbconvert_exporter": "python",
   "pygments_lexer": "ipython3",
   "version": "3.8.8"
  },
  "orig_nbformat": 4
 },
 "nbformat": 4,
 "nbformat_minor": 2
}
