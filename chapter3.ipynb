{
 "cells": [
  {
   "attachments": {},
   "cell_type": "markdown",
   "metadata": {},
   "source": [
    "# G-API Data objects in Python"
   ]
  },
  {
   "attachments": {},
   "cell_type": "markdown",
   "metadata": {},
   "source": [
    " **Graph protocol** defines what arguments a computation was defined\n",
    "on (both inputs and outputs), and what are the types\n",
    "of those arguments:"
   ]
  },
  {
   "attachments": {},
   "cell_type": "markdown",
   "metadata": {},
   "source": [
    "Some of the types of those arguments are shown in the following table."
   ]
  },
  {
   "cell_type": "code",
   "execution_count": 17,
   "metadata": {},
   "outputs": [
    {
     "ename": "SyntaxError",
     "evalue": "invalid syntax (1662101309.py, line 1)",
     "output_type": "error",
     "traceback": [
      "\u001b[0;36m  Cell \u001b[0;32mIn[17], line 1\u001b[0;36m\u001b[0m\n\u001b[0;31m    <img src=\"resources/table of data objects.png\",width=60,height=60>\u001b[0m\n\u001b[0m    ^\u001b[0m\n\u001b[0;31mSyntaxError\u001b[0m\u001b[0;31m:\u001b[0m invalid syntax\n"
     ]
    }
   ],
   "source": [
    "<img src=\"resources/table of data objects.png\",width=60,height=60>"
   ]
  },
  {
   "attachments": {},
   "cell_type": "markdown",
   "metadata": {},
   "source": [
    "Next, let's look at an example so we can better understand data objects in Python."
   ]
  },
  {
   "cell_type": "code",
   "execution_count": 18,
   "metadata": {},
   "outputs": [],
   "source": [
    "# Imports \n",
    "import cv2 as cv \n",
    "import numpy as np "
   ]
  },
  {
   "cell_type": "code",
   "execution_count": 19,
   "metadata": {},
   "outputs": [
    {
     "name": "stdout",
     "output_type": "stream",
     "text": [
      "The sum of two matrices: [[1 2]\n",
      " [3 4]] and [[1 1]\n",
      " [1 1]] is [[2 3]\n",
      " [4 5]]\n"
     ]
    }
   ],
   "source": [
    "# GMat \n",
    "\n",
    "# Define two 2x2 matrices using numpy arrays.\n",
    "mat_1: cv.Mat = cv.Mat(np.array([[1, 2], [3, 4]]))\n",
    "mat_2: cv.Mat = cv.Mat(np.array([[1, 1], [1, 1]]))\n",
    "\n",
    "# Define the input and output for the G-API computation.\n",
    "g_in_1: cv.GMat = cv.GMat()\n",
    "g_in_2: cv.GMat = cv.GMat()\n",
    "g_out: cv.GMat = cv.gapi.add(g_in_1, g_in_2)\n",
    "\n",
    "# Define the G-API computation, which adds the two input matrices.\n",
    "g_computation: cv.GComputation = cv.GComputation(cv.GIn(g_in_1, g_in_2), cv.GOut(g_out))\n",
    "\n",
    "# Apply the G-API computation to the two input matrices.\n",
    "out_mat = g_computation.apply(cv.gin(mat_1, mat_2))\n",
    "\n",
    "# Print the output.\n",
    "print(f\"The sum of two matrices: {mat_1} and {mat_2} is {out_mat}\")"
   ]
  },
  {
   "attachments": {},
   "cell_type": "markdown",
   "metadata": {},
   "source": [
    "From this example, we learn about Data Objects in G-API:\n",
    "\n",
    "* Creation: Data objects like *cv.GMat()* are used to encapsulate input and output for computations.\n",
    "\n",
    "* Usage: They are placeholders for operations in the graph, separating the actual data from computation steps.\n",
    "\n",
    "* Data Object Types: Different data objects represent different types of data. In this example, *cv.GMat* represents 2D matrices."
   ]
  }
 ],
 "metadata": {
  "kernelspec": {
   "display_name": "base",
   "language": "python",
   "name": "python3"
  },
  "language_info": {
   "codemirror_mode": {
    "name": "ipython",
    "version": 3
   },
   "file_extension": ".py",
   "mimetype": "text/x-python",
   "name": "python",
   "nbconvert_exporter": "python",
   "pygments_lexer": "ipython3",
   "version": "3.8.8"
  },
  "orig_nbformat": 4
 },
 "nbformat": 4,
 "nbformat_minor": 2
}
